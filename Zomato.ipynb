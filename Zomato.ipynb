{
  "cells": [
    {
      "cell_type": "markdown",
      "metadata": {
        "id": "AdaM76_5TGJU"
      },
      "source": [
        "**IMPORTING LIBRARIES**\n"
      ]
    },
    {
      "cell_type": "code",
      "execution_count": 1,
      "metadata": {
        "id": "c1vVOykf5_AZ"
      },
      "outputs": [],
      "source": [
        "import pandas as pd\n",
        "import numpy as np\n",
        "import matplotlib.pyplot as plt\n",
        "import seaborn as sns\n",
        "\n",
        "from sklearn.model_selection import train_test_split\n",
        "from sklearn.preprocessing import LabelEncoder, StandardScaler\n",
        "from sklearn.linear_model import LinearRegression\n",
        "from sklearn.ensemble import RandomForestRegressor\n",
        "from xgboost import XGBRegressor\n",
        "from sklearn.metrics import mean_squared_error, r2_score"
      ]
    },
    {
      "cell_type": "markdown",
      "metadata": {
        "id": "zj4ngZDETQ74"
      },
      "source": [
        "**LOAD DATASET**\n"
      ]
    },
    {
      "cell_type": "code",
      "execution_count": 2,
      "metadata": {
        "colab": {
          "base_uri": "https://localhost:8080/",
          "height": 91
        },
        "id": "DDottcdY6D9e",
        "outputId": "46dc3dc7-d597-41e0-b401-32319ac76d91"
      },
      "outputs": [
        {
          "output_type": "display_data",
          "data": {
            "text/plain": [
              "<IPython.core.display.HTML object>"
            ],
            "text/html": [
              "\n",
              "     <input type=\"file\" id=\"files-a02a522b-1a4d-4feb-a187-3775e4f52d37\" name=\"files[]\" multiple disabled\n",
              "        style=\"border:none\" />\n",
              "     <output id=\"result-a02a522b-1a4d-4feb-a187-3775e4f52d37\">\n",
              "      Upload widget is only available when the cell has been executed in the\n",
              "      current browser session. Please rerun this cell to enable.\n",
              "      </output>\n",
              "      <script>// Copyright 2017 Google LLC\n",
              "//\n",
              "// Licensed under the Apache License, Version 2.0 (the \"License\");\n",
              "// you may not use this file except in compliance with the License.\n",
              "// You may obtain a copy of the License at\n",
              "//\n",
              "//      http://www.apache.org/licenses/LICENSE-2.0\n",
              "//\n",
              "// Unless required by applicable law or agreed to in writing, software\n",
              "// distributed under the License is distributed on an \"AS IS\" BASIS,\n",
              "// WITHOUT WARRANTIES OR CONDITIONS OF ANY KIND, either express or implied.\n",
              "// See the License for the specific language governing permissions and\n",
              "// limitations under the License.\n",
              "\n",
              "/**\n",
              " * @fileoverview Helpers for google.colab Python module.\n",
              " */\n",
              "(function(scope) {\n",
              "function span(text, styleAttributes = {}) {\n",
              "  const element = document.createElement('span');\n",
              "  element.textContent = text;\n",
              "  for (const key of Object.keys(styleAttributes)) {\n",
              "    element.style[key] = styleAttributes[key];\n",
              "  }\n",
              "  return element;\n",
              "}\n",
              "\n",
              "// Max number of bytes which will be uploaded at a time.\n",
              "const MAX_PAYLOAD_SIZE = 100 * 1024;\n",
              "\n",
              "function _uploadFiles(inputId, outputId) {\n",
              "  const steps = uploadFilesStep(inputId, outputId);\n",
              "  const outputElement = document.getElementById(outputId);\n",
              "  // Cache steps on the outputElement to make it available for the next call\n",
              "  // to uploadFilesContinue from Python.\n",
              "  outputElement.steps = steps;\n",
              "\n",
              "  return _uploadFilesContinue(outputId);\n",
              "}\n",
              "\n",
              "// This is roughly an async generator (not supported in the browser yet),\n",
              "// where there are multiple asynchronous steps and the Python side is going\n",
              "// to poll for completion of each step.\n",
              "// This uses a Promise to block the python side on completion of each step,\n",
              "// then passes the result of the previous step as the input to the next step.\n",
              "function _uploadFilesContinue(outputId) {\n",
              "  const outputElement = document.getElementById(outputId);\n",
              "  const steps = outputElement.steps;\n",
              "\n",
              "  const next = steps.next(outputElement.lastPromiseValue);\n",
              "  return Promise.resolve(next.value.promise).then((value) => {\n",
              "    // Cache the last promise value to make it available to the next\n",
              "    // step of the generator.\n",
              "    outputElement.lastPromiseValue = value;\n",
              "    return next.value.response;\n",
              "  });\n",
              "}\n",
              "\n",
              "/**\n",
              " * Generator function which is called between each async step of the upload\n",
              " * process.\n",
              " * @param {string} inputId Element ID of the input file picker element.\n",
              " * @param {string} outputId Element ID of the output display.\n",
              " * @return {!Iterable<!Object>} Iterable of next steps.\n",
              " */\n",
              "function* uploadFilesStep(inputId, outputId) {\n",
              "  const inputElement = document.getElementById(inputId);\n",
              "  inputElement.disabled = false;\n",
              "\n",
              "  const outputElement = document.getElementById(outputId);\n",
              "  outputElement.innerHTML = '';\n",
              "\n",
              "  const pickedPromise = new Promise((resolve) => {\n",
              "    inputElement.addEventListener('change', (e) => {\n",
              "      resolve(e.target.files);\n",
              "    });\n",
              "  });\n",
              "\n",
              "  const cancel = document.createElement('button');\n",
              "  inputElement.parentElement.appendChild(cancel);\n",
              "  cancel.textContent = 'Cancel upload';\n",
              "  const cancelPromise = new Promise((resolve) => {\n",
              "    cancel.onclick = () => {\n",
              "      resolve(null);\n",
              "    };\n",
              "  });\n",
              "\n",
              "  // Wait for the user to pick the files.\n",
              "  const files = yield {\n",
              "    promise: Promise.race([pickedPromise, cancelPromise]),\n",
              "    response: {\n",
              "      action: 'starting',\n",
              "    }\n",
              "  };\n",
              "\n",
              "  cancel.remove();\n",
              "\n",
              "  // Disable the input element since further picks are not allowed.\n",
              "  inputElement.disabled = true;\n",
              "\n",
              "  if (!files) {\n",
              "    return {\n",
              "      response: {\n",
              "        action: 'complete',\n",
              "      }\n",
              "    };\n",
              "  }\n",
              "\n",
              "  for (const file of files) {\n",
              "    const li = document.createElement('li');\n",
              "    li.append(span(file.name, {fontWeight: 'bold'}));\n",
              "    li.append(span(\n",
              "        `(${file.type || 'n/a'}) - ${file.size} bytes, ` +\n",
              "        `last modified: ${\n",
              "            file.lastModifiedDate ? file.lastModifiedDate.toLocaleDateString() :\n",
              "                                    'n/a'} - `));\n",
              "    const percent = span('0% done');\n",
              "    li.appendChild(percent);\n",
              "\n",
              "    outputElement.appendChild(li);\n",
              "\n",
              "    const fileDataPromise = new Promise((resolve) => {\n",
              "      const reader = new FileReader();\n",
              "      reader.onload = (e) => {\n",
              "        resolve(e.target.result);\n",
              "      };\n",
              "      reader.readAsArrayBuffer(file);\n",
              "    });\n",
              "    // Wait for the data to be ready.\n",
              "    let fileData = yield {\n",
              "      promise: fileDataPromise,\n",
              "      response: {\n",
              "        action: 'continue',\n",
              "      }\n",
              "    };\n",
              "\n",
              "    // Use a chunked sending to avoid message size limits. See b/62115660.\n",
              "    let position = 0;\n",
              "    do {\n",
              "      const length = Math.min(fileData.byteLength - position, MAX_PAYLOAD_SIZE);\n",
              "      const chunk = new Uint8Array(fileData, position, length);\n",
              "      position += length;\n",
              "\n",
              "      const base64 = btoa(String.fromCharCode.apply(null, chunk));\n",
              "      yield {\n",
              "        response: {\n",
              "          action: 'append',\n",
              "          file: file.name,\n",
              "          data: base64,\n",
              "        },\n",
              "      };\n",
              "\n",
              "      let percentDone = fileData.byteLength === 0 ?\n",
              "          100 :\n",
              "          Math.round((position / fileData.byteLength) * 100);\n",
              "      percent.textContent = `${percentDone}% done`;\n",
              "\n",
              "    } while (position < fileData.byteLength);\n",
              "  }\n",
              "\n",
              "  // All done.\n",
              "  yield {\n",
              "    response: {\n",
              "      action: 'complete',\n",
              "    }\n",
              "  };\n",
              "}\n",
              "\n",
              "scope.google = scope.google || {};\n",
              "scope.google.colab = scope.google.colab || {};\n",
              "scope.google.colab._files = {\n",
              "  _uploadFiles,\n",
              "  _uploadFilesContinue,\n",
              "};\n",
              "})(self);\n",
              "</script> "
            ]
          },
          "metadata": {}
        },
        {
          "output_type": "stream",
          "name": "stdout",
          "text": [
            "Saving zomato_restaurants_in_india.zip to zomato_restaurants_in_india.zip\n"
          ]
        }
      ],
      "source": [
        "import zipfile\n",
        "import os\n",
        "from google.colab import files\n",
        "uploaded = files.upload()\n"
      ]
    },
    {
      "cell_type": "markdown",
      "metadata": {
        "id": "iQOy58aaTXhu"
      },
      "source": [
        "**EXTRACT FILE**\n"
      ]
    },
    {
      "cell_type": "code",
      "execution_count": 3,
      "metadata": {
        "colab": {
          "base_uri": "https://localhost:8080/"
        },
        "id": "-xLBwE-u_IEW",
        "outputId": "8582fe5f-b453-4b0a-8842-97c871af73a4"
      },
      "outputs": [
        {
          "output_type": "stream",
          "name": "stdout",
          "text": [
            "Extracted files: ['zomato_restaurants_in_India.csv']\n"
          ]
        }
      ],
      "source": [
        "zip_path = list(uploaded.keys())[0]\n",
        "\n",
        "with zipfile.ZipFile(zip_path, 'r') as zip_ref:\n",
        "    zip_ref.extractall(\"zomato_data\")\n",
        "import os\n",
        "print(\"Extracted files:\", os.listdir(\"zomato_data\"))"
      ]
    },
    {
      "cell_type": "markdown",
      "metadata": {
        "id": "RaS_M4j6TpyO"
      },
      "source": [
        "**SELECTED COLUMNS**\n"
      ]
    },
    {
      "cell_type": "code",
      "execution_count": 45,
      "metadata": {
        "colab": {
          "base_uri": "https://localhost:8080/",
          "height": 330
        },
        "id": "vBV8LAyG_Nua",
        "outputId": "29530419-f031-40e8-ceea-a9a06bfe39b6"
      },
      "outputs": [
        {
          "output_type": "stream",
          "name": "stdout",
          "text": [
            "Relevant columns selected and renamed successfully!\n",
            "Selected Columns: ['Restaurant Name', 'Cuisine', 'Location', 'Average Price', 'Rating']\n",
            "Shape after column selection: (211944, 5)\n"
          ]
        },
        {
          "output_type": "execute_result",
          "data": {
            "text/plain": [
              "                  Restaurant Name  \\\n",
              "0                     Bikanervala   \n",
              "1  Mama Chicken Mama Franky House   \n",
              "2                   Bhagat Halwai   \n",
              "3                   Bhagat Halwai   \n",
              "4     The Salt Cafe Kitchen & Bar   \n",
              "\n",
              "                                             Cuisine     Location  \\\n",
              "0  North Indian, South Indian, Mithai, Street Foo...     Khandari   \n",
              "1  North Indian, Mughlai, Rolls, Chinese, Fast Fo...   Agra Cantt   \n",
              "2                                  Fast Food, Mithai     Shahganj   \n",
              "3          Desserts, Bakery, Fast Food, South Indian  Civil Lines   \n",
              "4                 North Indian, Continental, Italian      Tajganj   \n",
              "\n",
              "   Average Price  Rating  \n",
              "0            700     4.4  \n",
              "1            600     4.4  \n",
              "2            300     4.2  \n",
              "3            300     4.3  \n",
              "4           1000     4.9  "
            ],
            "text/html": [
              "\n",
              "  <div id=\"df-eb86a684-600a-4449-bd84-d26cee6a9d40\" class=\"colab-df-container\">\n",
              "    <div>\n",
              "<style scoped>\n",
              "    .dataframe tbody tr th:only-of-type {\n",
              "        vertical-align: middle;\n",
              "    }\n",
              "\n",
              "    .dataframe tbody tr th {\n",
              "        vertical-align: top;\n",
              "    }\n",
              "\n",
              "    .dataframe thead th {\n",
              "        text-align: right;\n",
              "    }\n",
              "</style>\n",
              "<table border=\"1\" class=\"dataframe\">\n",
              "  <thead>\n",
              "    <tr style=\"text-align: right;\">\n",
              "      <th></th>\n",
              "      <th>Restaurant Name</th>\n",
              "      <th>Cuisine</th>\n",
              "      <th>Location</th>\n",
              "      <th>Average Price</th>\n",
              "      <th>Rating</th>\n",
              "    </tr>\n",
              "  </thead>\n",
              "  <tbody>\n",
              "    <tr>\n",
              "      <th>0</th>\n",
              "      <td>Bikanervala</td>\n",
              "      <td>North Indian, South Indian, Mithai, Street Foo...</td>\n",
              "      <td>Khandari</td>\n",
              "      <td>700</td>\n",
              "      <td>4.4</td>\n",
              "    </tr>\n",
              "    <tr>\n",
              "      <th>1</th>\n",
              "      <td>Mama Chicken Mama Franky House</td>\n",
              "      <td>North Indian, Mughlai, Rolls, Chinese, Fast Fo...</td>\n",
              "      <td>Agra Cantt</td>\n",
              "      <td>600</td>\n",
              "      <td>4.4</td>\n",
              "    </tr>\n",
              "    <tr>\n",
              "      <th>2</th>\n",
              "      <td>Bhagat Halwai</td>\n",
              "      <td>Fast Food, Mithai</td>\n",
              "      <td>Shahganj</td>\n",
              "      <td>300</td>\n",
              "      <td>4.2</td>\n",
              "    </tr>\n",
              "    <tr>\n",
              "      <th>3</th>\n",
              "      <td>Bhagat Halwai</td>\n",
              "      <td>Desserts, Bakery, Fast Food, South Indian</td>\n",
              "      <td>Civil Lines</td>\n",
              "      <td>300</td>\n",
              "      <td>4.3</td>\n",
              "    </tr>\n",
              "    <tr>\n",
              "      <th>4</th>\n",
              "      <td>The Salt Cafe Kitchen &amp; Bar</td>\n",
              "      <td>North Indian, Continental, Italian</td>\n",
              "      <td>Tajganj</td>\n",
              "      <td>1000</td>\n",
              "      <td>4.9</td>\n",
              "    </tr>\n",
              "  </tbody>\n",
              "</table>\n",
              "</div>\n",
              "    <div class=\"colab-df-buttons\">\n",
              "\n",
              "  <div class=\"colab-df-container\">\n",
              "    <button class=\"colab-df-convert\" onclick=\"convertToInteractive('df-eb86a684-600a-4449-bd84-d26cee6a9d40')\"\n",
              "            title=\"Convert this dataframe to an interactive table.\"\n",
              "            style=\"display:none;\">\n",
              "\n",
              "  <svg xmlns=\"http://www.w3.org/2000/svg\" height=\"24px\" viewBox=\"0 -960 960 960\">\n",
              "    <path d=\"M120-120v-720h720v720H120Zm60-500h600v-160H180v160Zm220 220h160v-160H400v160Zm0 220h160v-160H400v160ZM180-400h160v-160H180v160Zm440 0h160v-160H620v160ZM180-180h160v-160H180v160Zm440 0h160v-160H620v160Z\"/>\n",
              "  </svg>\n",
              "    </button>\n",
              "\n",
              "  <style>\n",
              "    .colab-df-container {\n",
              "      display:flex;\n",
              "      gap: 12px;\n",
              "    }\n",
              "\n",
              "    .colab-df-convert {\n",
              "      background-color: #E8F0FE;\n",
              "      border: none;\n",
              "      border-radius: 50%;\n",
              "      cursor: pointer;\n",
              "      display: none;\n",
              "      fill: #1967D2;\n",
              "      height: 32px;\n",
              "      padding: 0 0 0 0;\n",
              "      width: 32px;\n",
              "    }\n",
              "\n",
              "    .colab-df-convert:hover {\n",
              "      background-color: #E2EBFA;\n",
              "      box-shadow: 0px 1px 2px rgba(60, 64, 67, 0.3), 0px 1px 3px 1px rgba(60, 64, 67, 0.15);\n",
              "      fill: #174EA6;\n",
              "    }\n",
              "\n",
              "    .colab-df-buttons div {\n",
              "      margin-bottom: 4px;\n",
              "    }\n",
              "\n",
              "    [theme=dark] .colab-df-convert {\n",
              "      background-color: #3B4455;\n",
              "      fill: #D2E3FC;\n",
              "    }\n",
              "\n",
              "    [theme=dark] .colab-df-convert:hover {\n",
              "      background-color: #434B5C;\n",
              "      box-shadow: 0px 1px 3px 1px rgba(0, 0, 0, 0.15);\n",
              "      filter: drop-shadow(0px 1px 2px rgba(0, 0, 0, 0.3));\n",
              "      fill: #FFFFFF;\n",
              "    }\n",
              "  </style>\n",
              "\n",
              "    <script>\n",
              "      const buttonEl =\n",
              "        document.querySelector('#df-eb86a684-600a-4449-bd84-d26cee6a9d40 button.colab-df-convert');\n",
              "      buttonEl.style.display =\n",
              "        google.colab.kernel.accessAllowed ? 'block' : 'none';\n",
              "\n",
              "      async function convertToInteractive(key) {\n",
              "        const element = document.querySelector('#df-eb86a684-600a-4449-bd84-d26cee6a9d40');\n",
              "        const dataTable =\n",
              "          await google.colab.kernel.invokeFunction('convertToInteractive',\n",
              "                                                    [key], {});\n",
              "        if (!dataTable) return;\n",
              "\n",
              "        const docLinkHtml = 'Like what you see? Visit the ' +\n",
              "          '<a target=\"_blank\" href=https://colab.research.google.com/notebooks/data_table.ipynb>data table notebook</a>'\n",
              "          + ' to learn more about interactive tables.';\n",
              "        element.innerHTML = '';\n",
              "        dataTable['output_type'] = 'display_data';\n",
              "        await google.colab.output.renderOutput(dataTable, element);\n",
              "        const docLink = document.createElement('div');\n",
              "        docLink.innerHTML = docLinkHtml;\n",
              "        element.appendChild(docLink);\n",
              "      }\n",
              "    </script>\n",
              "  </div>\n",
              "\n",
              "\n",
              "    <div id=\"df-0f5a8d7f-0e62-4916-acba-52673ab3d9e7\">\n",
              "      <button class=\"colab-df-quickchart\" onclick=\"quickchart('df-0f5a8d7f-0e62-4916-acba-52673ab3d9e7')\"\n",
              "                title=\"Suggest charts\"\n",
              "                style=\"display:none;\">\n",
              "\n",
              "<svg xmlns=\"http://www.w3.org/2000/svg\" height=\"24px\"viewBox=\"0 0 24 24\"\n",
              "     width=\"24px\">\n",
              "    <g>\n",
              "        <path d=\"M19 3H5c-1.1 0-2 .9-2 2v14c0 1.1.9 2 2 2h14c1.1 0 2-.9 2-2V5c0-1.1-.9-2-2-2zM9 17H7v-7h2v7zm4 0h-2V7h2v10zm4 0h-2v-4h2v4z\"/>\n",
              "    </g>\n",
              "</svg>\n",
              "      </button>\n",
              "\n",
              "<style>\n",
              "  .colab-df-quickchart {\n",
              "      --bg-color: #E8F0FE;\n",
              "      --fill-color: #1967D2;\n",
              "      --hover-bg-color: #E2EBFA;\n",
              "      --hover-fill-color: #174EA6;\n",
              "      --disabled-fill-color: #AAA;\n",
              "      --disabled-bg-color: #DDD;\n",
              "  }\n",
              "\n",
              "  [theme=dark] .colab-df-quickchart {\n",
              "      --bg-color: #3B4455;\n",
              "      --fill-color: #D2E3FC;\n",
              "      --hover-bg-color: #434B5C;\n",
              "      --hover-fill-color: #FFFFFF;\n",
              "      --disabled-bg-color: #3B4455;\n",
              "      --disabled-fill-color: #666;\n",
              "  }\n",
              "\n",
              "  .colab-df-quickchart {\n",
              "    background-color: var(--bg-color);\n",
              "    border: none;\n",
              "    border-radius: 50%;\n",
              "    cursor: pointer;\n",
              "    display: none;\n",
              "    fill: var(--fill-color);\n",
              "    height: 32px;\n",
              "    padding: 0;\n",
              "    width: 32px;\n",
              "  }\n",
              "\n",
              "  .colab-df-quickchart:hover {\n",
              "    background-color: var(--hover-bg-color);\n",
              "    box-shadow: 0 1px 2px rgba(60, 64, 67, 0.3), 0 1px 3px 1px rgba(60, 64, 67, 0.15);\n",
              "    fill: var(--button-hover-fill-color);\n",
              "  }\n",
              "\n",
              "  .colab-df-quickchart-complete:disabled,\n",
              "  .colab-df-quickchart-complete:disabled:hover {\n",
              "    background-color: var(--disabled-bg-color);\n",
              "    fill: var(--disabled-fill-color);\n",
              "    box-shadow: none;\n",
              "  }\n",
              "\n",
              "  .colab-df-spinner {\n",
              "    border: 2px solid var(--fill-color);\n",
              "    border-color: transparent;\n",
              "    border-bottom-color: var(--fill-color);\n",
              "    animation:\n",
              "      spin 1s steps(1) infinite;\n",
              "  }\n",
              "\n",
              "  @keyframes spin {\n",
              "    0% {\n",
              "      border-color: transparent;\n",
              "      border-bottom-color: var(--fill-color);\n",
              "      border-left-color: var(--fill-color);\n",
              "    }\n",
              "    20% {\n",
              "      border-color: transparent;\n",
              "      border-left-color: var(--fill-color);\n",
              "      border-top-color: var(--fill-color);\n",
              "    }\n",
              "    30% {\n",
              "      border-color: transparent;\n",
              "      border-left-color: var(--fill-color);\n",
              "      border-top-color: var(--fill-color);\n",
              "      border-right-color: var(--fill-color);\n",
              "    }\n",
              "    40% {\n",
              "      border-color: transparent;\n",
              "      border-right-color: var(--fill-color);\n",
              "      border-top-color: var(--fill-color);\n",
              "    }\n",
              "    60% {\n",
              "      border-color: transparent;\n",
              "      border-right-color: var(--fill-color);\n",
              "    }\n",
              "    80% {\n",
              "      border-color: transparent;\n",
              "      border-right-color: var(--fill-color);\n",
              "      border-bottom-color: var(--fill-color);\n",
              "    }\n",
              "    90% {\n",
              "      border-color: transparent;\n",
              "      border-bottom-color: var(--fill-color);\n",
              "    }\n",
              "  }\n",
              "</style>\n",
              "\n",
              "      <script>\n",
              "        async function quickchart(key) {\n",
              "          const quickchartButtonEl =\n",
              "            document.querySelector('#' + key + ' button');\n",
              "          quickchartButtonEl.disabled = true;  // To prevent multiple clicks.\n",
              "          quickchartButtonEl.classList.add('colab-df-spinner');\n",
              "          try {\n",
              "            const charts = await google.colab.kernel.invokeFunction(\n",
              "                'suggestCharts', [key], {});\n",
              "          } catch (error) {\n",
              "            console.error('Error during call to suggestCharts:', error);\n",
              "          }\n",
              "          quickchartButtonEl.classList.remove('colab-df-spinner');\n",
              "          quickchartButtonEl.classList.add('colab-df-quickchart-complete');\n",
              "        }\n",
              "        (() => {\n",
              "          let quickchartButtonEl =\n",
              "            document.querySelector('#df-0f5a8d7f-0e62-4916-acba-52673ab3d9e7 button');\n",
              "          quickchartButtonEl.style.display =\n",
              "            google.colab.kernel.accessAllowed ? 'block' : 'none';\n",
              "        })();\n",
              "      </script>\n",
              "    </div>\n",
              "\n",
              "    </div>\n",
              "  </div>\n"
            ],
            "application/vnd.google.colaboratory.intrinsic+json": {
              "type": "dataframe",
              "variable_name": "df"
            }
          },
          "metadata": {},
          "execution_count": 45
        }
      ],
      "source": [
        "import pandas as pd\n",
        "\n",
        "\n",
        "df = pd.read_csv('/content/zomato_restaurants_in_india.zip')  # Replace with your actual CSV file path\n",
        "\n",
        "\n",
        "df = df[['name', 'cuisines', 'locality', 'average_cost_for_two', 'aggregate_rating']].copy()\n",
        "df.columns = ['Restaurant Name', 'Cuisine', 'Location', 'Average Price', 'Rating']\n",
        "\n",
        "\n",
        "print(\"Relevant columns selected and renamed successfully!\")\n",
        "print(\"Selected Columns:\", df.columns.tolist())\n",
        "print(\"Shape after column selection:\", df.shape)\n",
        "\n",
        "df.head()\n"
      ]
    },
    {
      "cell_type": "markdown",
      "metadata": {
        "id": "9b-IhgIbTvf4"
      },
      "source": [
        "**DATA CLEANING**\n"
      ]
    },
    {
      "cell_type": "code",
      "execution_count": 7,
      "metadata": {
        "colab": {
          "base_uri": "https://localhost:8080/",
          "height": 312
        },
        "id": "Q9rbFavI_NoU",
        "outputId": "75c55f7b-56d9-43f3-ea76-fa01270c4c33"
      },
      "outputs": [
        {
          "output_type": "stream",
          "name": "stdout",
          "text": [
            " Cleaned data: 24405 rows removed.\n",
            "Remaining rows after cleaning: 187539\n"
          ]
        },
        {
          "output_type": "execute_result",
          "data": {
            "text/plain": [
              "                  Restaurant Name  \\\n",
              "0                     Bikanervala   \n",
              "1  Mama Chicken Mama Franky House   \n",
              "2                   Bhagat Halwai   \n",
              "3                   Bhagat Halwai   \n",
              "4     The Salt Cafe Kitchen & Bar   \n",
              "\n",
              "                                             Cuisine     Location  \\\n",
              "0  North Indian, South Indian, Mithai, Street Foo...     Khandari   \n",
              "1  North Indian, Mughlai, Rolls, Chinese, Fast Fo...   Agra Cantt   \n",
              "2                                  Fast Food, Mithai     Shahganj   \n",
              "3          Desserts, Bakery, Fast Food, South Indian  Civil Lines   \n",
              "4                 North Indian, Continental, Italian      Tajganj   \n",
              "\n",
              "   Average Price  Rating  \n",
              "0            700     4.4  \n",
              "1            600     4.4  \n",
              "2            300     4.2  \n",
              "3            300     4.3  \n",
              "4           1000     4.9  "
            ],
            "text/html": [
              "\n",
              "  <div id=\"df-29a559c9-b6b0-4b62-b0bf-ba785919e83f\" class=\"colab-df-container\">\n",
              "    <div>\n",
              "<style scoped>\n",
              "    .dataframe tbody tr th:only-of-type {\n",
              "        vertical-align: middle;\n",
              "    }\n",
              "\n",
              "    .dataframe tbody tr th {\n",
              "        vertical-align: top;\n",
              "    }\n",
              "\n",
              "    .dataframe thead th {\n",
              "        text-align: right;\n",
              "    }\n",
              "</style>\n",
              "<table border=\"1\" class=\"dataframe\">\n",
              "  <thead>\n",
              "    <tr style=\"text-align: right;\">\n",
              "      <th></th>\n",
              "      <th>Restaurant Name</th>\n",
              "      <th>Cuisine</th>\n",
              "      <th>Location</th>\n",
              "      <th>Average Price</th>\n",
              "      <th>Rating</th>\n",
              "    </tr>\n",
              "  </thead>\n",
              "  <tbody>\n",
              "    <tr>\n",
              "      <th>0</th>\n",
              "      <td>Bikanervala</td>\n",
              "      <td>North Indian, South Indian, Mithai, Street Foo...</td>\n",
              "      <td>Khandari</td>\n",
              "      <td>700</td>\n",
              "      <td>4.4</td>\n",
              "    </tr>\n",
              "    <tr>\n",
              "      <th>1</th>\n",
              "      <td>Mama Chicken Mama Franky House</td>\n",
              "      <td>North Indian, Mughlai, Rolls, Chinese, Fast Fo...</td>\n",
              "      <td>Agra Cantt</td>\n",
              "      <td>600</td>\n",
              "      <td>4.4</td>\n",
              "    </tr>\n",
              "    <tr>\n",
              "      <th>2</th>\n",
              "      <td>Bhagat Halwai</td>\n",
              "      <td>Fast Food, Mithai</td>\n",
              "      <td>Shahganj</td>\n",
              "      <td>300</td>\n",
              "      <td>4.2</td>\n",
              "    </tr>\n",
              "    <tr>\n",
              "      <th>3</th>\n",
              "      <td>Bhagat Halwai</td>\n",
              "      <td>Desserts, Bakery, Fast Food, South Indian</td>\n",
              "      <td>Civil Lines</td>\n",
              "      <td>300</td>\n",
              "      <td>4.3</td>\n",
              "    </tr>\n",
              "    <tr>\n",
              "      <th>4</th>\n",
              "      <td>The Salt Cafe Kitchen &amp; Bar</td>\n",
              "      <td>North Indian, Continental, Italian</td>\n",
              "      <td>Tajganj</td>\n",
              "      <td>1000</td>\n",
              "      <td>4.9</td>\n",
              "    </tr>\n",
              "  </tbody>\n",
              "</table>\n",
              "</div>\n",
              "    <div class=\"colab-df-buttons\">\n",
              "\n",
              "  <div class=\"colab-df-container\">\n",
              "    <button class=\"colab-df-convert\" onclick=\"convertToInteractive('df-29a559c9-b6b0-4b62-b0bf-ba785919e83f')\"\n",
              "            title=\"Convert this dataframe to an interactive table.\"\n",
              "            style=\"display:none;\">\n",
              "\n",
              "  <svg xmlns=\"http://www.w3.org/2000/svg\" height=\"24px\" viewBox=\"0 -960 960 960\">\n",
              "    <path d=\"M120-120v-720h720v720H120Zm60-500h600v-160H180v160Zm220 220h160v-160H400v160Zm0 220h160v-160H400v160ZM180-400h160v-160H180v160Zm440 0h160v-160H620v160ZM180-180h160v-160H180v160Zm440 0h160v-160H620v160Z\"/>\n",
              "  </svg>\n",
              "    </button>\n",
              "\n",
              "  <style>\n",
              "    .colab-df-container {\n",
              "      display:flex;\n",
              "      gap: 12px;\n",
              "    }\n",
              "\n",
              "    .colab-df-convert {\n",
              "      background-color: #E8F0FE;\n",
              "      border: none;\n",
              "      border-radius: 50%;\n",
              "      cursor: pointer;\n",
              "      display: none;\n",
              "      fill: #1967D2;\n",
              "      height: 32px;\n",
              "      padding: 0 0 0 0;\n",
              "      width: 32px;\n",
              "    }\n",
              "\n",
              "    .colab-df-convert:hover {\n",
              "      background-color: #E2EBFA;\n",
              "      box-shadow: 0px 1px 2px rgba(60, 64, 67, 0.3), 0px 1px 3px 1px rgba(60, 64, 67, 0.15);\n",
              "      fill: #174EA6;\n",
              "    }\n",
              "\n",
              "    .colab-df-buttons div {\n",
              "      margin-bottom: 4px;\n",
              "    }\n",
              "\n",
              "    [theme=dark] .colab-df-convert {\n",
              "      background-color: #3B4455;\n",
              "      fill: #D2E3FC;\n",
              "    }\n",
              "\n",
              "    [theme=dark] .colab-df-convert:hover {\n",
              "      background-color: #434B5C;\n",
              "      box-shadow: 0px 1px 3px 1px rgba(0, 0, 0, 0.15);\n",
              "      filter: drop-shadow(0px 1px 2px rgba(0, 0, 0, 0.3));\n",
              "      fill: #FFFFFF;\n",
              "    }\n",
              "  </style>\n",
              "\n",
              "    <script>\n",
              "      const buttonEl =\n",
              "        document.querySelector('#df-29a559c9-b6b0-4b62-b0bf-ba785919e83f button.colab-df-convert');\n",
              "      buttonEl.style.display =\n",
              "        google.colab.kernel.accessAllowed ? 'block' : 'none';\n",
              "\n",
              "      async function convertToInteractive(key) {\n",
              "        const element = document.querySelector('#df-29a559c9-b6b0-4b62-b0bf-ba785919e83f');\n",
              "        const dataTable =\n",
              "          await google.colab.kernel.invokeFunction('convertToInteractive',\n",
              "                                                    [key], {});\n",
              "        if (!dataTable) return;\n",
              "\n",
              "        const docLinkHtml = 'Like what you see? Visit the ' +\n",
              "          '<a target=\"_blank\" href=https://colab.research.google.com/notebooks/data_table.ipynb>data table notebook</a>'\n",
              "          + ' to learn more about interactive tables.';\n",
              "        element.innerHTML = '';\n",
              "        dataTable['output_type'] = 'display_data';\n",
              "        await google.colab.output.renderOutput(dataTable, element);\n",
              "        const docLink = document.createElement('div');\n",
              "        docLink.innerHTML = docLinkHtml;\n",
              "        element.appendChild(docLink);\n",
              "      }\n",
              "    </script>\n",
              "  </div>\n",
              "\n",
              "\n",
              "    <div id=\"df-e0909d72-b777-4997-aad4-d5e72ec886eb\">\n",
              "      <button class=\"colab-df-quickchart\" onclick=\"quickchart('df-e0909d72-b777-4997-aad4-d5e72ec886eb')\"\n",
              "                title=\"Suggest charts\"\n",
              "                style=\"display:none;\">\n",
              "\n",
              "<svg xmlns=\"http://www.w3.org/2000/svg\" height=\"24px\"viewBox=\"0 0 24 24\"\n",
              "     width=\"24px\">\n",
              "    <g>\n",
              "        <path d=\"M19 3H5c-1.1 0-2 .9-2 2v14c0 1.1.9 2 2 2h14c1.1 0 2-.9 2-2V5c0-1.1-.9-2-2-2zM9 17H7v-7h2v7zm4 0h-2V7h2v10zm4 0h-2v-4h2v4z\"/>\n",
              "    </g>\n",
              "</svg>\n",
              "      </button>\n",
              "\n",
              "<style>\n",
              "  .colab-df-quickchart {\n",
              "      --bg-color: #E8F0FE;\n",
              "      --fill-color: #1967D2;\n",
              "      --hover-bg-color: #E2EBFA;\n",
              "      --hover-fill-color: #174EA6;\n",
              "      --disabled-fill-color: #AAA;\n",
              "      --disabled-bg-color: #DDD;\n",
              "  }\n",
              "\n",
              "  [theme=dark] .colab-df-quickchart {\n",
              "      --bg-color: #3B4455;\n",
              "      --fill-color: #D2E3FC;\n",
              "      --hover-bg-color: #434B5C;\n",
              "      --hover-fill-color: #FFFFFF;\n",
              "      --disabled-bg-color: #3B4455;\n",
              "      --disabled-fill-color: #666;\n",
              "  }\n",
              "\n",
              "  .colab-df-quickchart {\n",
              "    background-color: var(--bg-color);\n",
              "    border: none;\n",
              "    border-radius: 50%;\n",
              "    cursor: pointer;\n",
              "    display: none;\n",
              "    fill: var(--fill-color);\n",
              "    height: 32px;\n",
              "    padding: 0;\n",
              "    width: 32px;\n",
              "  }\n",
              "\n",
              "  .colab-df-quickchart:hover {\n",
              "    background-color: var(--hover-bg-color);\n",
              "    box-shadow: 0 1px 2px rgba(60, 64, 67, 0.3), 0 1px 3px 1px rgba(60, 64, 67, 0.15);\n",
              "    fill: var(--button-hover-fill-color);\n",
              "  }\n",
              "\n",
              "  .colab-df-quickchart-complete:disabled,\n",
              "  .colab-df-quickchart-complete:disabled:hover {\n",
              "    background-color: var(--disabled-bg-color);\n",
              "    fill: var(--disabled-fill-color);\n",
              "    box-shadow: none;\n",
              "  }\n",
              "\n",
              "  .colab-df-spinner {\n",
              "    border: 2px solid var(--fill-color);\n",
              "    border-color: transparent;\n",
              "    border-bottom-color: var(--fill-color);\n",
              "    animation:\n",
              "      spin 1s steps(1) infinite;\n",
              "  }\n",
              "\n",
              "  @keyframes spin {\n",
              "    0% {\n",
              "      border-color: transparent;\n",
              "      border-bottom-color: var(--fill-color);\n",
              "      border-left-color: var(--fill-color);\n",
              "    }\n",
              "    20% {\n",
              "      border-color: transparent;\n",
              "      border-left-color: var(--fill-color);\n",
              "      border-top-color: var(--fill-color);\n",
              "    }\n",
              "    30% {\n",
              "      border-color: transparent;\n",
              "      border-left-color: var(--fill-color);\n",
              "      border-top-color: var(--fill-color);\n",
              "      border-right-color: var(--fill-color);\n",
              "    }\n",
              "    40% {\n",
              "      border-color: transparent;\n",
              "      border-right-color: var(--fill-color);\n",
              "      border-top-color: var(--fill-color);\n",
              "    }\n",
              "    60% {\n",
              "      border-color: transparent;\n",
              "      border-right-color: var(--fill-color);\n",
              "    }\n",
              "    80% {\n",
              "      border-color: transparent;\n",
              "      border-right-color: var(--fill-color);\n",
              "      border-bottom-color: var(--fill-color);\n",
              "    }\n",
              "    90% {\n",
              "      border-color: transparent;\n",
              "      border-bottom-color: var(--fill-color);\n",
              "    }\n",
              "  }\n",
              "</style>\n",
              "\n",
              "      <script>\n",
              "        async function quickchart(key) {\n",
              "          const quickchartButtonEl =\n",
              "            document.querySelector('#' + key + ' button');\n",
              "          quickchartButtonEl.disabled = true;  // To prevent multiple clicks.\n",
              "          quickchartButtonEl.classList.add('colab-df-spinner');\n",
              "          try {\n",
              "            const charts = await google.colab.kernel.invokeFunction(\n",
              "                'suggestCharts', [key], {});\n",
              "          } catch (error) {\n",
              "            console.error('Error during call to suggestCharts:', error);\n",
              "          }\n",
              "          quickchartButtonEl.classList.remove('colab-df-spinner');\n",
              "          quickchartButtonEl.classList.add('colab-df-quickchart-complete');\n",
              "        }\n",
              "        (() => {\n",
              "          let quickchartButtonEl =\n",
              "            document.querySelector('#df-e0909d72-b777-4997-aad4-d5e72ec886eb button');\n",
              "          quickchartButtonEl.style.display =\n",
              "            google.colab.kernel.accessAllowed ? 'block' : 'none';\n",
              "        })();\n",
              "      </script>\n",
              "    </div>\n",
              "\n",
              "    </div>\n",
              "  </div>\n"
            ],
            "application/vnd.google.colaboratory.intrinsic+json": {
              "type": "dataframe",
              "variable_name": "df_clean"
            }
          },
          "metadata": {},
          "execution_count": 7
        }
      ],
      "source": [
        "\n",
        "initial_rows = df.shape[0]\n",
        "\n",
        "df_clean = df[\n",
        "    (df['Rating'].notnull()) & (df['Average Price'].notnull()) &\n",
        "    (df['Rating'] > 0) & (df['Average Price'] > 0)\n",
        "].copy()\n",
        "\n",
        "df_clean.dropna(subset=['Cuisine', 'Location'], inplace=True)\n",
        "df_clean.reset_index(drop=True, inplace=True)\n",
        "\n",
        "final_rows = df_clean.shape[0]\n",
        "removed = initial_rows - final_rows\n",
        "\n",
        "print(f\" Cleaned data: {removed} rows removed.\")\n",
        "print(f\"Remaining rows after cleaning: {final_rows}\")\n",
        "df_clean.head()\n"
      ]
    },
    {
      "cell_type": "markdown",
      "metadata": {
        "id": "erE3zpFOUFfo"
      },
      "source": [
        "**CLEANED DATA**\n"
      ]
    },
    {
      "cell_type": "code",
      "execution_count": 9,
      "metadata": {
        "colab": {
          "base_uri": "https://localhost:8080/"
        },
        "id": "4Wz7NxNhUC9p",
        "outputId": "84adff99-e559-46cb-a0b4-81070b3d291c"
      },
      "outputs": [
        {
          "output_type": "stream",
          "name": "stdout",
          "text": [
            "\n",
            "  Cleaning data...\n",
            "Cleaned data. Removed 24405 rows.\n",
            "Remaining rows: 187539\n"
          ]
        }
      ],
      "source": [
        "\n",
        "print(\"\\n  Cleaning data...\")\n",
        "initial_rows = df.shape[0]\n",
        "df_clean = df[\n",
        "    (df['Rating'].notnull()) & (df['Average Price'].notnull()) &\n",
        "    (df['Rating'] > 0) & (df['Average Price'] > 0)\n",
        "].copy()\n",
        "df_clean.dropna(subset=['Cuisine', 'Location'], inplace=True)\n",
        "df_clean.reset_index(drop=True, inplace=True)\n",
        "print(f\"Cleaned data. Removed {initial_rows - df_clean.shape[0]} rows.\")\n",
        "print(f\"Remaining rows: {df_clean.shape[0]}\")"
      ]
    },
    {
      "cell_type": "markdown",
      "metadata": {
        "id": "lR5PrJq4T0Is"
      },
      "source": [
        "**PREPROCESSING**\n"
      ]
    },
    {
      "cell_type": "code",
      "execution_count": 10,
      "metadata": {
        "colab": {
          "base_uri": "https://localhost:8080/",
          "height": 224
        },
        "id": "86U9XLY6_Nl-",
        "outputId": "52973461-8311-4b04-8555-cac9fb58fb88"
      },
      "outputs": [
        {
          "output_type": "stream",
          "name": "stdout",
          "text": [
            " Encoded 'Cuisine' and 'Location' successfully!\n"
          ]
        },
        {
          "output_type": "execute_result",
          "data": {
            "text/plain": [
              "                                             Cuisine  Cuisine_encoded  \\\n",
              "0  North Indian, South Indian, Mithai, Street Foo...             7428   \n",
              "1  North Indian, Mughlai, Rolls, Chinese, Fast Fo...             7164   \n",
              "2                                  Fast Food, Mithai             4061   \n",
              "3          Desserts, Bakery, Fast Food, South Indian             3581   \n",
              "4                 North Indian, Continental, Italian             6608   \n",
              "\n",
              "      Location  Location_encoded  \n",
              "0     Khandari              1645  \n",
              "1   Agra Cantt                69  \n",
              "2     Shahganj              2888  \n",
              "3  Civil Lines               560  \n",
              "4      Tajganj              3102  "
            ],
            "text/html": [
              "\n",
              "  <div id=\"df-80639a68-7318-462d-ab56-54f08646f590\" class=\"colab-df-container\">\n",
              "    <div>\n",
              "<style scoped>\n",
              "    .dataframe tbody tr th:only-of-type {\n",
              "        vertical-align: middle;\n",
              "    }\n",
              "\n",
              "    .dataframe tbody tr th {\n",
              "        vertical-align: top;\n",
              "    }\n",
              "\n",
              "    .dataframe thead th {\n",
              "        text-align: right;\n",
              "    }\n",
              "</style>\n",
              "<table border=\"1\" class=\"dataframe\">\n",
              "  <thead>\n",
              "    <tr style=\"text-align: right;\">\n",
              "      <th></th>\n",
              "      <th>Cuisine</th>\n",
              "      <th>Cuisine_encoded</th>\n",
              "      <th>Location</th>\n",
              "      <th>Location_encoded</th>\n",
              "    </tr>\n",
              "  </thead>\n",
              "  <tbody>\n",
              "    <tr>\n",
              "      <th>0</th>\n",
              "      <td>North Indian, South Indian, Mithai, Street Foo...</td>\n",
              "      <td>7428</td>\n",
              "      <td>Khandari</td>\n",
              "      <td>1645</td>\n",
              "    </tr>\n",
              "    <tr>\n",
              "      <th>1</th>\n",
              "      <td>North Indian, Mughlai, Rolls, Chinese, Fast Fo...</td>\n",
              "      <td>7164</td>\n",
              "      <td>Agra Cantt</td>\n",
              "      <td>69</td>\n",
              "    </tr>\n",
              "    <tr>\n",
              "      <th>2</th>\n",
              "      <td>Fast Food, Mithai</td>\n",
              "      <td>4061</td>\n",
              "      <td>Shahganj</td>\n",
              "      <td>2888</td>\n",
              "    </tr>\n",
              "    <tr>\n",
              "      <th>3</th>\n",
              "      <td>Desserts, Bakery, Fast Food, South Indian</td>\n",
              "      <td>3581</td>\n",
              "      <td>Civil Lines</td>\n",
              "      <td>560</td>\n",
              "    </tr>\n",
              "    <tr>\n",
              "      <th>4</th>\n",
              "      <td>North Indian, Continental, Italian</td>\n",
              "      <td>6608</td>\n",
              "      <td>Tajganj</td>\n",
              "      <td>3102</td>\n",
              "    </tr>\n",
              "  </tbody>\n",
              "</table>\n",
              "</div>\n",
              "    <div class=\"colab-df-buttons\">\n",
              "\n",
              "  <div class=\"colab-df-container\">\n",
              "    <button class=\"colab-df-convert\" onclick=\"convertToInteractive('df-80639a68-7318-462d-ab56-54f08646f590')\"\n",
              "            title=\"Convert this dataframe to an interactive table.\"\n",
              "            style=\"display:none;\">\n",
              "\n",
              "  <svg xmlns=\"http://www.w3.org/2000/svg\" height=\"24px\" viewBox=\"0 -960 960 960\">\n",
              "    <path d=\"M120-120v-720h720v720H120Zm60-500h600v-160H180v160Zm220 220h160v-160H400v160Zm0 220h160v-160H400v160ZM180-400h160v-160H180v160Zm440 0h160v-160H620v160ZM180-180h160v-160H180v160Zm440 0h160v-160H620v160Z\"/>\n",
              "  </svg>\n",
              "    </button>\n",
              "\n",
              "  <style>\n",
              "    .colab-df-container {\n",
              "      display:flex;\n",
              "      gap: 12px;\n",
              "    }\n",
              "\n",
              "    .colab-df-convert {\n",
              "      background-color: #E8F0FE;\n",
              "      border: none;\n",
              "      border-radius: 50%;\n",
              "      cursor: pointer;\n",
              "      display: none;\n",
              "      fill: #1967D2;\n",
              "      height: 32px;\n",
              "      padding: 0 0 0 0;\n",
              "      width: 32px;\n",
              "    }\n",
              "\n",
              "    .colab-df-convert:hover {\n",
              "      background-color: #E2EBFA;\n",
              "      box-shadow: 0px 1px 2px rgba(60, 64, 67, 0.3), 0px 1px 3px 1px rgba(60, 64, 67, 0.15);\n",
              "      fill: #174EA6;\n",
              "    }\n",
              "\n",
              "    .colab-df-buttons div {\n",
              "      margin-bottom: 4px;\n",
              "    }\n",
              "\n",
              "    [theme=dark] .colab-df-convert {\n",
              "      background-color: #3B4455;\n",
              "      fill: #D2E3FC;\n",
              "    }\n",
              "\n",
              "    [theme=dark] .colab-df-convert:hover {\n",
              "      background-color: #434B5C;\n",
              "      box-shadow: 0px 1px 3px 1px rgba(0, 0, 0, 0.15);\n",
              "      filter: drop-shadow(0px 1px 2px rgba(0, 0, 0, 0.3));\n",
              "      fill: #FFFFFF;\n",
              "    }\n",
              "  </style>\n",
              "\n",
              "    <script>\n",
              "      const buttonEl =\n",
              "        document.querySelector('#df-80639a68-7318-462d-ab56-54f08646f590 button.colab-df-convert');\n",
              "      buttonEl.style.display =\n",
              "        google.colab.kernel.accessAllowed ? 'block' : 'none';\n",
              "\n",
              "      async function convertToInteractive(key) {\n",
              "        const element = document.querySelector('#df-80639a68-7318-462d-ab56-54f08646f590');\n",
              "        const dataTable =\n",
              "          await google.colab.kernel.invokeFunction('convertToInteractive',\n",
              "                                                    [key], {});\n",
              "        if (!dataTable) return;\n",
              "\n",
              "        const docLinkHtml = 'Like what you see? Visit the ' +\n",
              "          '<a target=\"_blank\" href=https://colab.research.google.com/notebooks/data_table.ipynb>data table notebook</a>'\n",
              "          + ' to learn more about interactive tables.';\n",
              "        element.innerHTML = '';\n",
              "        dataTable['output_type'] = 'display_data';\n",
              "        await google.colab.output.renderOutput(dataTable, element);\n",
              "        const docLink = document.createElement('div');\n",
              "        docLink.innerHTML = docLinkHtml;\n",
              "        element.appendChild(docLink);\n",
              "      }\n",
              "    </script>\n",
              "  </div>\n",
              "\n",
              "\n",
              "    <div id=\"df-6e88ae18-fc2f-4368-af7d-7f8c3af78de6\">\n",
              "      <button class=\"colab-df-quickchart\" onclick=\"quickchart('df-6e88ae18-fc2f-4368-af7d-7f8c3af78de6')\"\n",
              "                title=\"Suggest charts\"\n",
              "                style=\"display:none;\">\n",
              "\n",
              "<svg xmlns=\"http://www.w3.org/2000/svg\" height=\"24px\"viewBox=\"0 0 24 24\"\n",
              "     width=\"24px\">\n",
              "    <g>\n",
              "        <path d=\"M19 3H5c-1.1 0-2 .9-2 2v14c0 1.1.9 2 2 2h14c1.1 0 2-.9 2-2V5c0-1.1-.9-2-2-2zM9 17H7v-7h2v7zm4 0h-2V7h2v10zm4 0h-2v-4h2v4z\"/>\n",
              "    </g>\n",
              "</svg>\n",
              "      </button>\n",
              "\n",
              "<style>\n",
              "  .colab-df-quickchart {\n",
              "      --bg-color: #E8F0FE;\n",
              "      --fill-color: #1967D2;\n",
              "      --hover-bg-color: #E2EBFA;\n",
              "      --hover-fill-color: #174EA6;\n",
              "      --disabled-fill-color: #AAA;\n",
              "      --disabled-bg-color: #DDD;\n",
              "  }\n",
              "\n",
              "  [theme=dark] .colab-df-quickchart {\n",
              "      --bg-color: #3B4455;\n",
              "      --fill-color: #D2E3FC;\n",
              "      --hover-bg-color: #434B5C;\n",
              "      --hover-fill-color: #FFFFFF;\n",
              "      --disabled-bg-color: #3B4455;\n",
              "      --disabled-fill-color: #666;\n",
              "  }\n",
              "\n",
              "  .colab-df-quickchart {\n",
              "    background-color: var(--bg-color);\n",
              "    border: none;\n",
              "    border-radius: 50%;\n",
              "    cursor: pointer;\n",
              "    display: none;\n",
              "    fill: var(--fill-color);\n",
              "    height: 32px;\n",
              "    padding: 0;\n",
              "    width: 32px;\n",
              "  }\n",
              "\n",
              "  .colab-df-quickchart:hover {\n",
              "    background-color: var(--hover-bg-color);\n",
              "    box-shadow: 0 1px 2px rgba(60, 64, 67, 0.3), 0 1px 3px 1px rgba(60, 64, 67, 0.15);\n",
              "    fill: var(--button-hover-fill-color);\n",
              "  }\n",
              "\n",
              "  .colab-df-quickchart-complete:disabled,\n",
              "  .colab-df-quickchart-complete:disabled:hover {\n",
              "    background-color: var(--disabled-bg-color);\n",
              "    fill: var(--disabled-fill-color);\n",
              "    box-shadow: none;\n",
              "  }\n",
              "\n",
              "  .colab-df-spinner {\n",
              "    border: 2px solid var(--fill-color);\n",
              "    border-color: transparent;\n",
              "    border-bottom-color: var(--fill-color);\n",
              "    animation:\n",
              "      spin 1s steps(1) infinite;\n",
              "  }\n",
              "\n",
              "  @keyframes spin {\n",
              "    0% {\n",
              "      border-color: transparent;\n",
              "      border-bottom-color: var(--fill-color);\n",
              "      border-left-color: var(--fill-color);\n",
              "    }\n",
              "    20% {\n",
              "      border-color: transparent;\n",
              "      border-left-color: var(--fill-color);\n",
              "      border-top-color: var(--fill-color);\n",
              "    }\n",
              "    30% {\n",
              "      border-color: transparent;\n",
              "      border-left-color: var(--fill-color);\n",
              "      border-top-color: var(--fill-color);\n",
              "      border-right-color: var(--fill-color);\n",
              "    }\n",
              "    40% {\n",
              "      border-color: transparent;\n",
              "      border-right-color: var(--fill-color);\n",
              "      border-top-color: var(--fill-color);\n",
              "    }\n",
              "    60% {\n",
              "      border-color: transparent;\n",
              "      border-right-color: var(--fill-color);\n",
              "    }\n",
              "    80% {\n",
              "      border-color: transparent;\n",
              "      border-right-color: var(--fill-color);\n",
              "      border-bottom-color: var(--fill-color);\n",
              "    }\n",
              "    90% {\n",
              "      border-color: transparent;\n",
              "      border-bottom-color: var(--fill-color);\n",
              "    }\n",
              "  }\n",
              "</style>\n",
              "\n",
              "      <script>\n",
              "        async function quickchart(key) {\n",
              "          const quickchartButtonEl =\n",
              "            document.querySelector('#' + key + ' button');\n",
              "          quickchartButtonEl.disabled = true;  // To prevent multiple clicks.\n",
              "          quickchartButtonEl.classList.add('colab-df-spinner');\n",
              "          try {\n",
              "            const charts = await google.colab.kernel.invokeFunction(\n",
              "                'suggestCharts', [key], {});\n",
              "          } catch (error) {\n",
              "            console.error('Error during call to suggestCharts:', error);\n",
              "          }\n",
              "          quickchartButtonEl.classList.remove('colab-df-spinner');\n",
              "          quickchartButtonEl.classList.add('colab-df-quickchart-complete');\n",
              "        }\n",
              "        (() => {\n",
              "          let quickchartButtonEl =\n",
              "            document.querySelector('#df-6e88ae18-fc2f-4368-af7d-7f8c3af78de6 button');\n",
              "          quickchartButtonEl.style.display =\n",
              "            google.colab.kernel.accessAllowed ? 'block' : 'none';\n",
              "        })();\n",
              "      </script>\n",
              "    </div>\n",
              "\n",
              "    </div>\n",
              "  </div>\n"
            ],
            "application/vnd.google.colaboratory.intrinsic+json": {
              "type": "dataframe",
              "summary": "{\n  \"name\": \"df_clean[['Cuisine', 'Cuisine_encoded', 'Location', 'Location_encoded']]\",\n  \"rows\": 5,\n  \"fields\": [\n    {\n      \"column\": \"Cuisine\",\n      \"properties\": {\n        \"dtype\": \"string\",\n        \"num_unique_values\": 5,\n        \"samples\": [\n          \"North Indian, Mughlai, Rolls, Chinese, Fast Food, Street Food\",\n          \"North Indian, Continental, Italian\",\n          \"Fast Food, Mithai\"\n        ],\n        \"semantic_type\": \"\",\n        \"description\": \"\"\n      }\n    },\n    {\n      \"column\": \"Cuisine_encoded\",\n      \"properties\": {\n        \"dtype\": \"number\",\n        \"std\": 1810,\n        \"min\": 3581,\n        \"max\": 7428,\n        \"num_unique_values\": 5,\n        \"samples\": [\n          7164,\n          6608,\n          4061\n        ],\n        \"semantic_type\": \"\",\n        \"description\": \"\"\n      }\n    },\n    {\n      \"column\": \"Location\",\n      \"properties\": {\n        \"dtype\": \"string\",\n        \"num_unique_values\": 5,\n        \"samples\": [\n          \"Agra Cantt\",\n          \"Tajganj\",\n          \"Shahganj\"\n        ],\n        \"semantic_type\": \"\",\n        \"description\": \"\"\n      }\n    },\n    {\n      \"column\": \"Location_encoded\",\n      \"properties\": {\n        \"dtype\": \"number\",\n        \"std\": 1353,\n        \"min\": 69,\n        \"max\": 3102,\n        \"num_unique_values\": 5,\n        \"samples\": [\n          69,\n          3102,\n          2888\n        ],\n        \"semantic_type\": \"\",\n        \"description\": \"\"\n      }\n    }\n  ]\n}"
            }
          },
          "metadata": {},
          "execution_count": 10
        }
      ],
      "source": [
        "from sklearn.preprocessing import LabelEncoder\n",
        "le_cuisine = LabelEncoder()\n",
        "le_location = LabelEncoder()\n",
        "\n",
        "df_clean['Cuisine_encoded'] = le_cuisine.fit_transform(df_clean['Cuisine'])\n",
        "df_clean['Location_encoded'] = le_location.fit_transform(df_clean['Location'])\n",
        "\n",
        "print(\" Encoded 'Cuisine' and 'Location' successfully!\")\n",
        "df_clean[['Cuisine', 'Cuisine_encoded', 'Location', 'Location_encoded']].head()\n"
      ]
    },
    {
      "cell_type": "markdown",
      "metadata": {
        "id": "QRUJyTASUOIg"
      },
      "source": [
        "**ENCODING CATEGORICAL FEATURES USING MEAN ENCODING**\n"
      ]
    },
    {
      "cell_type": "code",
      "execution_count": 11,
      "metadata": {
        "colab": {
          "base_uri": "https://localhost:8080/"
        },
        "id": "eetw_sfTBa3l",
        "outputId": "b1a330f1-6ba3-408f-d64b-f321c4749853"
      },
      "outputs": [
        {
          "output_type": "stream",
          "name": "stdout",
          "text": [
            "\n",
            " Encoding categorical features using mean encoding...\n",
            "\n",
            " Creating new features...\n",
            "Sample features created:\n",
            "    Cuisine_encoded  Location_encoded  Cuisine_count  Price_per_cuisine\n",
            "0         4.400000          3.846053              5         140.000000\n",
            "1         4.400000          3.770000              6         100.000000\n",
            "2         3.834884          3.791447              2         150.000000\n",
            "3         4.200000          3.931544              4          75.000000\n",
            "4         4.225879          4.019630              3         333.333333\n"
          ]
        }
      ],
      "source": [
        "\n",
        "print(\"\\n Encoding categorical features using mean encoding...\")\n",
        "df_clean['Cuisine_encoded'] = df_clean.groupby('Cuisine')['Rating'].transform('mean')\n",
        "df_clean['Location_encoded'] = df_clean.groupby('Location')['Rating'].transform('mean')\n",
        "\n",
        "print(\"\\n Creating new features...\")\n",
        "df_clean['Cuisine_count'] = df_clean['Cuisine'].apply(lambda x: len(x.split(',')))\n",
        "df_clean['Price_per_cuisine'] = df_clean['Average Price'] / df_clean['Cuisine_count']\n",
        "print(\"Sample features created:\\n\", df_clean[['Cuisine_encoded', 'Location_encoded', 'Cuisine_count', 'Price_per_cuisine']].head())"
      ]
    },
    {
      "cell_type": "markdown",
      "metadata": {
        "id": "J3ctYWMMUeHq"
      },
      "source": [
        "**PREPARING DATA FOR MODELING**\n"
      ]
    },
    {
      "cell_type": "code",
      "execution_count": 12,
      "metadata": {
        "colab": {
          "base_uri": "https://localhost:8080/"
        },
        "id": "rGbGsljpG0pw",
        "outputId": "4be417d5-540f-4ac8-892b-64cccc3815a8"
      },
      "outputs": [
        {
          "output_type": "stream",
          "name": "stdout",
          "text": [
            "\n",
            "Preparing data for model...\n",
            "['Cuisine_encoded', 'Location_encoded', 'Average Price', 'Cuisine_count', 'Price_per_cuisine']\n"
          ]
        }
      ],
      "source": [
        "\n",
        "print(\"\\nPreparing data for model...\")\n",
        "features_rating = ['Cuisine_encoded', 'Location_encoded', 'Average Price', 'Cuisine_count', 'Price_per_cuisine']\n",
        "target_rating = 'Rating'\n",
        "print(features_rating)\n"
      ]
    },
    {
      "cell_type": "code",
      "execution_count": 13,
      "metadata": {
        "colab": {
          "base_uri": "https://localhost:8080/"
        },
        "id": "8tWON3IlHMJ2",
        "outputId": "7930fea3-c831-474e-90d4-0fe787083519"
      },
      "outputs": [
        {
          "output_type": "stream",
          "name": "stdout",
          "text": [
            "   Cuisine_encoded  Location_encoded  Average Price  Cuisine_count  \\\n",
            "0         4.400000          3.846053            700              5   \n",
            "1         4.400000          3.770000            600              6   \n",
            "2         3.834884          3.791447            300              2   \n",
            "3         4.200000          3.931544            300              4   \n",
            "4         4.225879          4.019630           1000              3   \n",
            "\n",
            "   Price_per_cuisine  \n",
            "0         140.000000  \n",
            "1         100.000000  \n",
            "2         150.000000  \n",
            "3          75.000000  \n",
            "4         333.333333  \n",
            "0    4.4\n",
            "1    4.4\n",
            "2    4.2\n",
            "3    4.3\n",
            "4    4.9\n",
            "Name: Rating, dtype: float64\n"
          ]
        }
      ],
      "source": [
        "X_rating = df_clean[features_rating]\n",
        "y_rating = df_clean[target_rating]\n",
        "print(X_rating.head())\n",
        "print(y_rating.head())"
      ]
    },
    {
      "cell_type": "markdown",
      "metadata": {
        "id": "JbO__TwRVCmj"
      },
      "source": [
        "**SCALING FEATURES**\n"
      ]
    },
    {
      "cell_type": "code",
      "execution_count": 14,
      "metadata": {
        "colab": {
          "base_uri": "https://localhost:8080/"
        },
        "id": "GGbrSLj-HL_A",
        "outputId": "ccd85586-87cf-437e-dfeb-620317fc9c47"
      },
      "outputs": [
        {
          "output_type": "stream",
          "name": "stdout",
          "text": [
            "\n",
            " Scaling features:\n",
            "Splitting into train sets\n",
            "Training Samples: 150031 | Testing Samples: 37508\n",
            "Features scaled.\n"
          ]
        }
      ],
      "source": [
        "\n",
        "print(\"\\n Scaling features:\")\n",
        "scaler = StandardScaler()\n",
        "X_scaled = scaler.fit_transform(X_rating)\n",
        "\n",
        "print(\"Splitting into train sets\")\n",
        "X_train, X_test, y_train, y_test = train_test_split(X_scaled, y_rating, test_size=0.2, random_state=42)\n",
        "print(f\"Training Samples: {len(X_train)} | Testing Samples: {len(X_test)}\")\n",
        "print(\"Features scaled.\")"
      ]
    },
    {
      "cell_type": "markdown",
      "metadata": {
        "id": "JaWUjM2KVIwP"
      },
      "source": [
        "**INITIALIZE MODELS**\n"
      ]
    },
    {
      "cell_type": "code",
      "execution_count": 15,
      "metadata": {
        "colab": {
          "base_uri": "https://localhost:8080/"
        },
        "id": "SdjPoTkxHqQ_",
        "outputId": "d318f84e-662a-4002-cf73-2fd139988895"
      },
      "outputs": [
        {
          "output_type": "stream",
          "name": "stdout",
          "text": [
            "\n",
            " Initializing models...\n",
            "Models initialized: Linear Regression, Random Forest, XGBoost\n"
          ]
        }
      ],
      "source": [
        "\n",
        "print(\"\\n Initializing models...\")\n",
        "models = {\n",
        "    \"Linear Regression\": LinearRegression(),\n",
        "    \"Random Forest\": RandomForestRegressor(n_estimators=100, random_state=42),\n",
        "    \"XGBoost\": XGBRegressor(n_estimators=300, learning_rate=0.1, max_depth=6,\n",
        "                            subsample=0.8, colsample_bytree=0.8,\n",
        "                            objective='reg:squarederror', random_state=42)\n",
        "}\n",
        "print(\"Models initialized: Linear Regression, Random Forest, XGBoost\")"
      ]
    },
    {
      "cell_type": "code",
      "execution_count": 17,
      "metadata": {
        "id": "LCuVMUEMIAVd"
      },
      "outputs": [],
      "source": [
        "from sklearn.metrics import mean_absolute_error"
      ]
    },
    {
      "cell_type": "code",
      "execution_count": 16,
      "metadata": {
        "id": "QTTxSiOAIB9n"
      },
      "outputs": [],
      "source": [
        "from sklearn.model_selection import train_test_split\n",
        "from sklearn.preprocessing import StandardScaler\n",
        "from sklearn.metrics import mean_squared_error, r2_score, mean_absolute_error\n",
        "from sklearn.linear_model import LinearRegression\n",
        "from sklearn.ensemble import RandomForestRegressor\n",
        "from xgboost import XGBRegressor\n"
      ]
    },
    {
      "cell_type": "markdown",
      "metadata": {
        "id": "LSbzaZ1gX-kB"
      },
      "source": [
        "**EVALUATING MODELS**\n"
      ]
    },
    {
      "cell_type": "code",
      "execution_count": 18,
      "metadata": {
        "colab": {
          "base_uri": "https://localhost:8080/"
        },
        "id": "GprUyPUOHvC5",
        "outputId": "df934420-ecfc-4ec5-b255-d6efcda91e69"
      },
      "outputs": [
        {
          "output_type": "stream",
          "name": "stdout",
          "text": [
            "\n",
            " Evaluating models...\n",
            "\n",
            " Training Linear Regression...\n",
            " Linear Regression Performance:\n",
            "  RMSE : 0.350\n",
            "  MAE  : 0.249\n",
            "  R²   : 0.489\n",
            "\n",
            " Training Random Forest...\n",
            " Random Forest Performance:\n",
            "  RMSE : 0.189\n",
            "  MAE  : 0.074\n",
            "  R²   : 0.850\n",
            "\n",
            " Training XGBoost...\n",
            " XGBoost Performance:\n",
            "  RMSE : 0.309\n",
            "  MAE  : 0.202\n",
            "  R²   : 0.601\n",
            "\n"
          ]
        }
      ],
      "source": [
        "\n",
        "print(\"\\n Evaluating models...\\n\")\n",
        "for name, model in models.items():\n",
        "    print(f\" Training {name}...\")\n",
        "    model.fit(X_train, y_train)\n",
        "    preds = model.predict(X_test)\n",
        "\n",
        "    rmse = np.sqrt(mean_squared_error(y_test, preds))\n",
        "    r2 = r2_score(y_test, preds)\n",
        "    mae = mean_absolute_error(y_test, preds)\n",
        "\n",
        "    print(f\" {name} Performance:\")\n",
        "    print(f\"  RMSE : {rmse:.3f}\")\n",
        "    print(f\"  MAE  : {mae:.3f}\")\n",
        "    print(f\"  R²   : {r2:.3f}\\n\")"
      ]
    },
    {
      "cell_type": "markdown",
      "metadata": {
        "id": "TfQ5ibQmYE94"
      },
      "source": [
        "**RMSE MODEL COMPARISION FOR LINEAR REGRESSION, RANDOM FOREST AND XGBOOST**\n"
      ]
    },
    {
      "cell_type": "code",
      "execution_count": 19,
      "metadata": {
        "colab": {
          "base_uri": "https://localhost:8080/",
          "height": 391
        },
        "id": "EWb8uZXYH10r",
        "outputId": "4c5871c8-535b-47b5-fc7d-214b2ae923eb"
      },
      "outputs": [
        {
          "output_type": "display_data",
          "data": {
            "text/plain": [
              "<Figure size 700x400 with 1 Axes>"
            ],
            "image/png": "[encoded data removed]"
          },
          "metadata": {}
        }
      ],
      "source": [
        "import matplotlib.pyplot as plt\n",
        "\n",
        "results = {\n",
        "    'Linear Regression': {'RMSE': 0.350, 'MAE': 0.249, 'R2': 0.489},\n",
        "    'Random Forest': {'RMSE': 0.189, 'MAE': 0.074, 'R2': 0.850},\n",
        "    'XGBoost': {'RMSE': 0.309, 'MAE': 0.202, 'R2': 0.601}\n",
        "}\n",
        "\n",
        "models_list = list(results.keys())\n",
        "rmse_vals = [results[m]['RMSE'] for m in models_list]\n",
        "mae_vals = [results[m]['MAE'] for m in models_list]\n",
        "r2_vals = [results[m]['R2'] for m in models_list]\n",
        "\n",
        "plt.figure(figsize=(7,4))\n",
        "plt.bar(models_list, rmse_vals, color='tomato')\n",
        "plt.title(\" Model Comparison: RMSE\")\n",
        "plt.ylabel(\"RMSE\")\n",
        "plt.show()"
      ]
    },
    {
      "cell_type": "markdown",
      "metadata": {
        "id": "m5Yigm-aYe9q"
      },
      "source": [
        "MAE MODEL COMPARISION FOR LINEAR REGRESSION, RANDOM FOREST AND XGBOOST"
      ]
    },
    {
      "cell_type": "code",
      "execution_count": 20,
      "metadata": {
        "colab": {
          "base_uri": "https://localhost:8080/",
          "height": 391
        },
        "id": "9JNqQSuUJaxH",
        "outputId": "7c5de1e3-aaf6-4bd0-ebcc-79c71bfa76b7"
      },
      "outputs": [
        {
          "output_type": "display_data",
          "data": {
            "text/plain": [
              "<Figure size 700x400 with 1 Axes>"
            ],
            "image/png": "[encoded data removed]"
          },
          "metadata": {}
        }
      ],
      "source": [
        "\n",
        "plt.figure(figsize=(7,4))\n",
        "plt.bar(models_list, mae_vals, color='orange')\n",
        "plt.title(\"Model Comparison: MAE\")\n",
        "plt.ylabel(\"MAE\")\n",
        "plt.show()"
      ]
    },
    {
      "cell_type": "markdown",
      "metadata": {
        "id": "bWfqeROzZmD1"
      },
      "source": [
        "**R^2 MODEL COMPARISION FOR LINEAR REGRESSION, RANDOM FOREST AND XGBOOST**"
      ]
    },
    {
      "cell_type": "code",
      "execution_count": 21,
      "metadata": {
        "colab": {
          "base_uri": "https://localhost:8080/",
          "height": 391
        },
        "id": "6H9YwJn4Jatz",
        "outputId": "057914ae-00ff-45d6-85d7-cee4bbc8f755"
      },
      "outputs": [
        {
          "output_type": "display_data",
          "data": {
            "text/plain": [
              "<Figure size 700x400 with 1 Axes>"
            ],
            "image/png": "[encoded data removed]"
          },
          "metadata": {}
        }
      ],
      "source": [
        "plt.figure(figsize=(7,4))\n",
        "plt.bar(models_list, r2_vals, color='seagreen')\n",
        "plt.title(\"Model Comparison: R² Score\")\n",
        "plt.ylabel(\"R²\")\n",
        "plt.ylim(0, 1)\n",
        "plt.show()"
      ]
    },
    {
      "cell_type": "markdown",
      "metadata": {
        "id": "d2a7gPYuZ-2m"
      },
      "source": [
        "**ACTUAL VS PREDICTED RATINGS**\n"
      ]
    },
    {
      "cell_type": "code",
      "execution_count": 22,
      "metadata": {
        "colab": {
          "base_uri": "https://localhost:8080/",
          "height": 564
        },
        "id": "NAREl6kMJarh",
        "outputId": "4d17e88f-3f36-465e-99d2-8da5362bde0d"
      },
      "outputs": [
        {
          "output_type": "display_data",
          "data": {
            "text/plain": [
              "<Figure size 800x600 with 1 Axes>"
            ],
            "image/png": "[encoded data removed]"
          },
          "metadata": {}
        }
      ],
      "source": [
        "\n",
        "best_model = models[\"Random Forest\"]\n",
        "y_pred_best = best_model.predict(X_test)\n",
        "\n",
        "plt.figure(figsize=(8,6))\n",
        "plt.scatter(y_test, y_pred_best, alpha=0.3, color='dodgerblue')\n",
        "plt.xlabel(\"Actual Ratings\")\n",
        "plt.ylabel(\"Predicted Ratings\")\n",
        "plt.title(\"Actual vs Predicted Ratings (Random Forest)\")\n",
        "plt.show()"
      ]
    },
    {
      "cell_type": "markdown",
      "metadata": {
        "id": "f5XZj3JlaHG9"
      },
      "source": [
        "**PRICE PREDICTION**\n"
      ]
    },
    {
      "cell_type": "code",
      "execution_count": 23,
      "metadata": {
        "id": "4EGktkyqJao9"
      },
      "outputs": [],
      "source": [
        "\n",
        "import pandas as pd\n",
        "import numpy as np\n",
        "import matplotlib.pyplot as plt\n",
        "from sklearn.model_selection import train_test_split\n",
        "from sklearn.preprocessing import StandardScaler\n",
        "from sklearn.metrics import mean_squared_error, r2_score, mean_absolute_error\n",
        "from sklearn.linear_model import LinearRegression\n",
        "from sklearn.ensemble import RandomForestRegressor\n",
        "from xgboost import XGBRegressor"
      ]
    },
    {
      "cell_type": "markdown",
      "metadata": {
        "id": "12Vt9EsEhzON"
      },
      "source": [
        "**LOAD DATASET**\n"
      ]
    },
    {
      "cell_type": "code",
      "execution_count": 24,
      "metadata": {
        "id": "aVr3RCZ7Jamf"
      },
      "outputs": [],
      "source": [
        "\n",
        "df = pd.read_csv(\"/content/zomato_restaurants_in_india.zip\")"
      ]
    },
    {
      "cell_type": "code",
      "execution_count": 25,
      "metadata": {
        "colab": {
          "base_uri": "https://localhost:8080/"
        },
        "id": "o3JB5-KXJabN",
        "outputId": "85825463-6646-439b-a7ca-aff8de098d7b"
      },
      "outputs": [
        {
          "output_type": "stream",
          "name": "stdout",
          "text": [
            " Available columns in the dataset:\n",
            "['res_id', 'name', 'establishment', 'url', 'address', 'city', 'city_id', 'locality', 'latitude', 'longitude', 'zipcode', 'country_id', 'locality_verbose', 'cuisines', 'timings', 'average_cost_for_two', 'price_range', 'currency', 'highlights', 'aggregate_rating', 'rating_text', 'votes', 'photo_count', 'opentable_support', 'delivery', 'takeaway']\n"
          ]
        }
      ],
      "source": [
        "print(\" Available columns in the dataset:\")\n",
        "print(df.columns.tolist())\n"
      ]
    },
    {
      "cell_type": "markdown",
      "metadata": {
        "id": "5SFwFC3ihjae"
      },
      "source": [
        "\n",
        "**DATA CLEANING**\n"
      ]
    },
    {
      "cell_type": "code",
      "execution_count": 29,
      "metadata": {
        "colab": {
          "base_uri": "https://localhost:8080/"
        },
        "id": "FzeREQRzLmgu",
        "outputId": "7ffba4a3-665e-4f02-d16a-1a9609be4390"
      },
      "outputs": [
        {
          "output_type": "stream",
          "name": "stdout",
          "text": [
            "\n",
            " Cleaning the dataset...\n",
            " Cleaned data: 24405 rows removed. Remaining: 187539\n"
          ]
        }
      ],
      "source": [
        "import pandas as pd\n",
        "\n",
        "df = pd.read_csv('/content/zomato_restaurants_in_india.zip')\n",
        "\n",
        "\n",
        "df = df[['name', 'cuisines', 'locality', 'average_cost_for_two', 'aggregate_rating']].copy()\n",
        "df.columns = ['Restaurant Name', 'Cuisine', 'Location', 'Average Price', 'Rating']\n",
        "\n",
        "\n",
        "df_clean = df.copy()\n",
        "\n",
        "print(\"\\n Cleaning the dataset...\")\n",
        "\n",
        "initial_rows = df_clean.shape[0]\n",
        "\n",
        "\n",
        "df_clean = df_clean[\n",
        "    (df_clean['Rating'].notnull()) &\n",
        "    (df_clean['Average Price'].notnull()) &\n",
        "    (df_clean['Rating'] > 0) &\n",
        "    (df_clean['Average Price'] > 0)\n",
        "].copy()\n",
        "\n",
        "\n",
        "df_clean.dropna(subset=['Cuisine', 'Location'], inplace=True)\n",
        "\n",
        "df_clean.reset_index(drop=True, inplace=True)\n",
        "\n",
        "final_rows = df_clean.shape[0]\n",
        "print(f\" Cleaned data: {initial_rows - final_rows} rows removed. Remaining: {final_rows}\")\n"
      ]
    },
    {
      "cell_type": "markdown",
      "metadata": {
        "id": "PaTjw_4Ti1EN"
      },
      "source": [
        "**FEATURE ENGINEERING**\n"
      ]
    },
    {
      "cell_type": "code",
      "execution_count": 31,
      "metadata": {
        "colab": {
          "base_uri": "https://localhost:8080/"
        },
        "id": "fT4vq_XJMylZ",
        "outputId": "cde989f9-6889-4955-f60d-ad02a4d95767"
      },
      "outputs": [
        {
          "output_type": "stream",
          "name": "stdout",
          "text": [
            "\n",
            " Creating features...\n",
            "Feature creation complete.\n"
          ]
        }
      ],
      "source": [
        "\n",
        "print(\"\\n Creating features...\")\n",
        "\n",
        "df_clean['Cuisine_encoded'] = df_clean.groupby('Cuisine')['Average Price'].transform('mean')\n",
        "df_clean['Location_encoded'] = df_clean.groupby('Location')['Average Price'].transform('mean')\n",
        "df_clean['Cuisine_count'] = df_clean['Cuisine'].apply(lambda x: len(x.split(',')))\n",
        "df_clean['Price_per_cuisine'] = df_clean['Average Price'] / df_clean['Cuisine_count']\n",
        "\n",
        "print(\"Feature creation complete.\")"
      ]
    },
    {
      "cell_type": "markdown",
      "metadata": {
        "id": "7Qv9bptxjURB"
      },
      "source": [
        "**ENCODING**\n"
      ]
    },
    {
      "cell_type": "code",
      "execution_count": 32,
      "metadata": {
        "colab": {
          "base_uri": "https://localhost:8080/"
        },
        "id": "xDJt-3SBNkXd",
        "outputId": "b1c03fa1-44fb-4203-df9f-1e3c3ae25235"
      },
      "outputs": [
        {
          "output_type": "stream",
          "name": "stdout",
          "text": [
            "Encoding categorical columns...\n",
            "Categorical encoding done and features created:\n",
            "                                             Cuisine  Cuisine_encoded  \\\n",
            "0  North Indian, South Indian, Mithai, Street Foo...             7428   \n",
            "1  North Indian, Mughlai, Rolls, Chinese, Fast Fo...             7164   \n",
            "2                                  Fast Food, Mithai             4061   \n",
            "3          Desserts, Bakery, Fast Food, South Indian             3581   \n",
            "4                 North Indian, Continental, Italian             6608   \n",
            "\n",
            "      Location  Location_encoded  Cuisine_count  \n",
            "0     Khandari              1645              5  \n",
            "1   Agra Cantt                69              6  \n",
            "2     Shahganj              2888              2  \n",
            "3  Civil Lines               560              4  \n",
            "4      Tajganj              3102              3  \n"
          ]
        }
      ],
      "source": [
        "print(\"Encoding categorical columns...\")\n",
        "\n",
        "from sklearn.preprocessing import LabelEncoder\n",
        "\n",
        "le_cuisine = LabelEncoder()\n",
        "le_location = LabelEncoder()\n",
        "\n",
        "df_clean['Cuisine_encoded'] = le_cuisine.fit_transform(df_clean['Cuisine'])\n",
        "df_clean['Location_encoded'] = le_location.fit_transform(df_clean['Location'])\n",
        "\n",
        "df_clean['Cuisine_count'] = df_clean['Cuisine'].apply(lambda x: len(x.split(',')))\n",
        "\n",
        "print(\"Categorical encoding done and features created:\")\n",
        "print(df_clean[['Cuisine', 'Cuisine_encoded', 'Location', 'Location_encoded', 'Cuisine_count']].head())\n"
      ]
    },
    {
      "cell_type": "markdown",
      "source": [
        "**PREPARING TRAINING DATA**\n"
      ],
      "metadata": {
        "id": "lhjGiMfenixT"
      }
    },
    {
      "cell_type": "code",
      "execution_count": 33,
      "metadata": {
        "colab": {
          "base_uri": "https://localhost:8080/"
        },
        "id": "cBn10PT7kCCq",
        "outputId": "00bb2645-90c7-4a78-88d0-d59fd2d2f647"
      },
      "outputs": [
        {
          "output_type": "stream",
          "name": "stdout",
          "text": [
            " Preparing training data...\n",
            " Feature matrix X and target y created successfully.\n",
            " X shape: (187539, 3)\n",
            " y sample: 0     700\n",
            "1     600\n",
            "2     300\n",
            "3     300\n",
            "4    1000\n",
            "Name: Average Price, dtype: int64\n"
          ]
        }
      ],
      "source": [
        "print(\" Preparing training data...\")\n",
        "\n",
        "features = ['Cuisine_encoded', 'Location_encoded', 'Cuisine_count']\n",
        "target = 'Average Price'\n",
        "\n",
        "X = df_clean[features]\n",
        "y = df_clean[target]\n",
        "\n",
        "print(\" Feature matrix X and target y created successfully.\")\n",
        "print(\" X shape:\", X.shape)\n",
        "print(\" y sample:\", y.head())\n"
      ]
    },
    {
      "cell_type": "markdown",
      "source": [
        "**FEATURE SCALING**\n"
      ],
      "metadata": {
        "id": "vFlZGsK7nrao"
      }
    },
    {
      "cell_type": "code",
      "execution_count": 34,
      "metadata": {
        "colab": {
          "base_uri": "https://localhost:8080/"
        },
        "id": "25fOlDFHNvRS",
        "outputId": "fa5888fe-8eaa-454e-f9f0-85587275fa8b"
      },
      "outputs": [
        {
          "output_type": "stream",
          "name": "stdout",
          "text": [
            " Scaling features...\n",
            "[[ 1.14527513 -0.1146896   1.56445048]\n",
            " [ 1.03928892 -1.61874121  2.21718165]\n",
            " [-0.20645047  1.07156431 -0.39374302]\n",
            " ...\n",
            " [-0.03382142 -1.58915644  0.25898815]\n",
            " [-0.15546468 -1.60060861  0.25898815]\n",
            " [-1.07039864  1.57736847  0.25898815]]\n",
            "Features scaled.\n"
          ]
        }
      ],
      "source": [
        "\n",
        "print(\" Scaling features...\")\n",
        "scaler = StandardScaler()\n",
        "X_scaled = scaler.fit_transform(X)\n",
        "print(X_scaled)\n",
        "print(\"Features scaled.\")"
      ]
    },
    {
      "cell_type": "markdown",
      "source": [
        "**TRAIN-TEST SPLIT**\n"
      ],
      "metadata": {
        "id": "6OEtkoQGnwcf"
      }
    },
    {
      "cell_type": "code",
      "execution_count": 35,
      "metadata": {
        "colab": {
          "base_uri": "https://localhost:8080/"
        },
        "id": "NTl7UkChNvOW",
        "outputId": "a1b48c58-287c-4d01-c0b6-dd92b352fd20"
      },
      "outputs": [
        {
          "output_type": "stream",
          "name": "stdout",
          "text": [
            "\n",
            " Splitting into train and test...\n",
            "Train size: 150031, Test size: 37508\n"
          ]
        }
      ],
      "source": [
        "\n",
        "print(\"\\n Splitting into train and test...\")\n",
        "X_train, X_test, y_train, y_test = train_test_split(X_scaled, y, test_size=0.2, random_state=42)\n",
        "print(f\"Train size: {X_train.shape[0]}, Test size: {X_test.shape[0]}\")"
      ]
    },
    {
      "cell_type": "markdown",
      "source": [
        "**INITIALIZE MODELS**\n"
      ],
      "metadata": {
        "id": "AtHhAsE7n1wr"
      }
    },
    {
      "cell_type": "code",
      "execution_count": 36,
      "metadata": {
        "colab": {
          "base_uri": "https://localhost:8080/"
        },
        "id": "YBeRp_LsNvL0",
        "outputId": "1176de9b-2ead-441e-e0f4-a7acc993cabf"
      },
      "outputs": [
        {
          "output_type": "stream",
          "name": "stdout",
          "text": [
            "\n",
            " Initializing models\n",
            " Models initialized: Linear Regression, Random Forest, XGBoost\n"
          ]
        }
      ],
      "source": [
        "\n",
        "print(\"\\n Initializing models\")\n",
        "models = {\n",
        "    \"Linear Regression\": LinearRegression(),\n",
        "    \"Random Forest\": RandomForestRegressor(n_estimators=200, max_depth=25, random_state=42),\n",
        "    \"XGBoost\": XGBRegressor(n_estimators=300, learning_rate=0.1, max_depth=6,\n",
        "                            subsample=0.8, colsample_bytree=0.8,\n",
        "                            objective='reg:squarederror', random_state=42)\n",
        "}\n",
        "print(\" Models initialized: Linear Regression, Random Forest, XGBoost\")\n",
        "\n"
      ]
    },
    {
      "cell_type": "markdown",
      "source": [
        "**PERFORMANCE**\n"
      ],
      "metadata": {
        "id": "TWcgV9D1n8N6"
      }
    },
    {
      "cell_type": "code",
      "execution_count": 37,
      "metadata": {
        "colab": {
          "base_uri": "https://localhost:8080/"
        },
        "id": "jo18TNLGNvJM",
        "outputId": "30c4994e-a2b5-4fc5-e9b3-9f4fda27faca"
      },
      "outputs": [
        {
          "output_type": "stream",
          "name": "stdout",
          "text": [
            "\n",
            "Price Prediction Results:\n",
            "\n",
            "Training Linear Regression\n",
            " Linear Regression Performance:\n",
            "  RMSE : 624.49\n",
            "  MAE  : 377.43\n",
            "  R²   : 0.036\n",
            "\n",
            "Training Random Forest\n",
            " Random Forest Performance:\n",
            "  RMSE : 198.53\n",
            "  MAE  : 78.30\n",
            "  R²   : 0.903\n",
            "\n",
            "Training XGBoost\n",
            " XGBoost Performance:\n",
            "  RMSE : 415.58\n",
            "  MAE  : 232.55\n",
            "  R²   : 0.573\n",
            "\n"
          ]
        }
      ],
      "source": [
        "\n",
        "print(\"\\nPrice Prediction Results:\\n\")\n",
        "\n",
        "for name, model in models.items():\n",
        "    print(f\"Training {name}\")\n",
        "    model.fit(X_train, y_train)\n",
        "    preds = model.predict(X_test)\n",
        "\n",
        "    rmse = np.sqrt(mean_squared_error(y_test, preds))\n",
        "    mae = mean_absolute_error(y_test, preds)\n",
        "    r2 = r2_score(y_test, preds)\n",
        "\n",
        "    print(f\" {name} Performance:\")\n",
        "    print(f\"  RMSE : {rmse:.2f}\")\n",
        "    print(f\"  MAE  : {mae:.2f}\")\n",
        "    print(f\"  R²   : {r2:.3f}\\n\")\n"
      ]
    },
    {
      "cell_type": "markdown",
      "source": [
        "**RMSE COMPARISION FOR LINEAR REGRESSION, RANDOM FOREST AND XGBOOST**\n"
      ],
      "metadata": {
        "id": "oTJMPbtLoCpm"
      }
    },
    {
      "cell_type": "code",
      "execution_count": 38,
      "metadata": {
        "colab": {
          "base_uri": "https://localhost:8080/",
          "height": 468
        },
        "id": "-9dNoI1yNvGn",
        "outputId": "26407eb1-4c46-470a-90f4-297ec9ef7d1f"
      },
      "outputs": [
        {
          "output_type": "display_data",
          "data": {
            "text/plain": [
              "<Figure size 600x500 with 1 Axes>"
            ],
            "image/png": "[encoded data removed]"
          },
          "metadata": {}
        }
      ],
      "source": [
        "import matplotlib.pyplot as plt\n",
        "\n",
        "\n",
        "model_names = [\"Linear Regression\", \"Random Forest\", \"XGBoost\"]\n",
        "rmse_values = [267.05, 115.20, 190.87]\n",
        "mae_values = [162.30, 35.09, 112.08]\n",
        "r2_values = [0.824, 0.967, 0.910]\n",
        "\n",
        "plt.figure(figsize=(6, 5))\n",
        "plt.bar(model_names, rmse_values, color='purple')\n",
        "plt.title(\"RMSE Comparison\")\n",
        "plt.ylabel(\"RMSE\")\n",
        "plt.show()"
      ]
    },
    {
      "cell_type": "markdown",
      "source": [
        "**MAE COMPARISION FOR LINEAR REGRESSION, RANDOM FOREST AND XGBOOST**"
      ],
      "metadata": {
        "id": "VjLMmRwqoRn7"
      }
    },
    {
      "cell_type": "code",
      "execution_count": 39,
      "metadata": {
        "colab": {
          "base_uri": "https://localhost:8080/",
          "height": 468
        },
        "id": "jsgLEwQtNvEO",
        "outputId": "41c2b487-e06d-4724-97d2-74c274d834d7"
      },
      "outputs": [
        {
          "output_type": "display_data",
          "data": {
            "text/plain": [
              "<Figure size 800x500 with 1 Axes>"
            ],
            "image/png": "[encoded data removed]"
          },
          "metadata": {}
        }
      ],
      "source": [
        "\n",
        "plt.figure(figsize=(8, 5))\n",
        "plt.bar(model_names, mae_values, color='skyblue')\n",
        "plt.title(\" MAE Comparison\")\n",
        "plt.ylabel(\"MAE\")\n",
        "plt.show()"
      ]
    },
    {
      "cell_type": "markdown",
      "source": [
        "** R^2MPARISION FOR LINEAR REGRESSION, RANDOM FOREST AND XGBOOST**"
      ],
      "metadata": {
        "id": "6bsYXFOmoXbg"
      }
    },
    {
      "cell_type": "code",
      "execution_count": 40,
      "metadata": {
        "colab": {
          "base_uri": "https://localhost:8080/",
          "height": 468
        },
        "id": "SRZ5R-AwNu8i",
        "outputId": "77812912-b5d9-45fe-eef9-12c72919980f"
      },
      "outputs": [
        {
          "output_type": "display_data",
          "data": {
            "text/plain": [
              "<Figure size 800x500 with 1 Axes>"
            ],
            "image/png": "[encoded data removed]"
          },
          "metadata": {}
        }
      ],
      "source": [
        "\n",
        "plt.figure(figsize=(8, 5))\n",
        "plt.bar(model_names, r2_values, color='seagreen')\n",
        "plt.title(\"R² Score Comparison\")\n",
        "plt.ylabel(\"R² Score\")\n",
        "plt.ylim(0.7, 1.0)\n",
        "plt.show()"
      ]
    },
    {
      "cell_type": "markdown",
      "source": [
        "**ACTUAL VS PREDICTED PRICE**"
      ],
      "metadata": {
        "id": "gAUsBD2voeY0"
      }
    },
    {
      "cell_type": "code",
      "execution_count": 41,
      "metadata": {
        "colab": {
          "base_uri": "https://localhost:8080/",
          "height": 582
        },
        "id": "h-IONVFHQWq0",
        "outputId": "16dff7f8-b345-4496-d8a1-77cb3cca4f64"
      },
      "outputs": [
        {
          "output_type": "stream",
          "name": "stdout",
          "text": [
            "Plotting Actual vs Predicted Price (Random Forest)...\n"
          ]
        },
        {
          "output_type": "display_data",
          "data": {
            "text/plain": [
              "<Figure size 800x600 with 1 Axes>"
            ],
            "image/png": "[encoded data removed]"
          },
          "metadata": {}
        }
      ],
      "source": [
        "\n",
        "print(\"Plotting Actual vs Predicted Price (Random Forest)...\")\n",
        "\n",
        "best_model = models[\"Random Forest\"]\n",
        "y_pred_best = best_model.predict(X_test)\n",
        "\n",
        "plt.figure(figsize=(8, 6))\n",
        "plt.scatter(y_test, y_pred_best, alpha=0.3, color='orange')\n",
        "plt.plot([y_test.min(), y_test.max()], [y_test.min(), y_test.max()], 'r--')\n",
        "plt.xlabel(\"Actual Price\")\n",
        "plt.ylabel(\"Predicted Price\")\n",
        "plt.title(\"Actual vs Predicted Price (Random Forest)\")\n",
        "plt.grid(True)\n",
        "plt.show()\n"
      ]
    },
    {
      "cell_type": "markdown",
      "source": [
        "**RMSE COMPARISION FOR RATING AND PRICE**"
      ],
      "metadata": {
        "id": "E0mrsExkomAE"
      }
    },
    {
      "cell_type": "code",
      "execution_count": 42,
      "metadata": {
        "colab": {
          "base_uri": "https://localhost:8080/",
          "height": 467
        },
        "id": "olvykpViQWnx",
        "outputId": "dc1bb47a-3b7a-41cc-8ac4-250f9dda9de7"
      },
      "outputs": [
        {
          "output_type": "display_data",
          "data": {
            "text/plain": [
              "<Figure size 1000x600 with 2 Axes>"
            ],
            "image/png": "[encoded data removed]"
          },
          "metadata": {}
        }
      ],
      "source": [
        "import matplotlib.pyplot as plt\n",
        "import numpy as np\n",
        "\n",
        "models = ['Linear Regression', 'Random Forest', 'XGBoost']\n",
        "rmse_rating = [0.350, 0.189, 0.309]\n",
        "rmse_price = [267.05, 115.20, 190.87]\n",
        "x = np.arange(len(models))\n",
        "width = 0.35\n",
        "\n",
        "fig, ax1 = plt.subplots(figsize=(10,6))\n",
        "ax2 = ax1.twinx()\n",
        "\n",
        "\n",
        "bar1 = ax1.bar(x - width/2, rmse_rating, width, label='Rating RMSE', color='Green')\n",
        "bar2 = ax2.bar(x + width/2, rmse_price, width, label='Price RMSE', color='orange')\n",
        "\n",
        "ax1.set_ylabel('Rating RMSE (Left Axis)', color='Green')\n",
        "ax2.set_ylabel('Price RMSE (Right Axis)', color='orange')\n",
        "ax1.set_xticks(x)\n",
        "ax1.set_xticklabels(models)\n",
        "plt.title(\" RMSE Comparison: Rating vs Price\")\n",
        "\n",
        "\n",
        "fig.legend(loc=\"upper right\", bbox_to_anchor=(1,1), bbox_transform=ax1.transAxes)\n",
        "\n",
        "plt.show()\n",
        "\n"
      ]
    },
    {
      "cell_type": "markdown",
      "source": [
        "**MAE COMPARISION FOR RATING AND PRICE**"
      ],
      "metadata": {
        "id": "Gu2PBBlYoyVG"
      }
    },
    {
      "cell_type": "code",
      "execution_count": 44,
      "metadata": {
        "colab": {
          "base_uri": "https://localhost:8080/",
          "height": 486
        },
        "id": "PxHdks95QWlR",
        "outputId": "06cc2ee1-773c-49a0-b2e5-df849b0d2a0d"
      },
      "outputs": [
        {
          "output_type": "stream",
          "name": "stdout",
          "text": [
            "Plotting MAE Comparison...\n"
          ]
        },
        {
          "output_type": "display_data",
          "data": {
            "text/plain": [
              "<Figure size 1000x600 with 2 Axes>"
            ],
            "image/png": "[encoded data removed]"
          },
          "metadata": {}
        }
      ],
      "source": [
        "\n",
        "import matplotlib.pyplot as plt\n",
        "import numpy as np\n",
        "\n",
        "\n",
        "models = ['Linear Regression', 'Random Forest', 'XGBoost']\n",
        "mae_rating = [0.249, 0.074, 0.202]\n",
        "mae_price = [162.30, 35.09, 112.08]\n",
        "x = np.arange(len(models))\n",
        "width = 0.35\n",
        "\n",
        "print(\"Plotting MAE Comparison...\")\n",
        "\n",
        "\n",
        "fig, ax1 = plt.subplots(figsize=(10,6))\n",
        "ax2 = ax1.twinx()\n",
        "\n",
        "\n",
        "bar1 = ax1.bar(x - width/2, mae_rating, width, label='Rating MAE', color='lightgreen')\n",
        "bar2 = ax2.bar(x + width/2, mae_price, width, label='Price MAE', color='salmon')\n",
        "\n",
        "\n",
        "ax1.set_ylabel('Rating MAE (Left Axis)', color='green')\n",
        "ax2.set_ylabel('Price MAE (Right Axis)', color='red')\n",
        "ax1.set_xticks(x)\n",
        "ax1.set_xticklabels(models)\n",
        "plt.title('MAE Comparison: Rating vs Price')\n",
        "\n",
        "\n",
        "fig.legend(loc=\"upper right\", bbox_to_anchor=(1,1), bbox_transform=ax1.transAxes)\n",
        "\n",
        "\n",
        "ax1.grid(True, axis='y')\n",
        "plt.show()\n"
      ]
    },
    {
      "cell_type": "markdown",
      "source": [
        "**R^2 COMPARISION FOR RATING AND PRICE**"
      ],
      "metadata": {
        "id": "VIzdsxoqo5yd"
      }
    },
    {
      "cell_type": "code",
      "execution_count": 43,
      "metadata": {
        "colab": {
          "base_uri": "https://localhost:8080/",
          "height": 520
        },
        "id": "8tJvnG1cQWib",
        "outputId": "d130d6eb-a376-4466-9adb-0230633ddb29"
      },
      "outputs": [
        {
          "output_type": "stream",
          "name": "stdout",
          "text": [
            " Plotting R² Score Comparison...\n"
          ]
        },
        {
          "output_type": "display_data",
          "data": {
            "text/plain": [
              "<Figure size 1000x600 with 1 Axes>"
            ],
            "image/png": "[encoded data removed]"
          },
          "metadata": {}
        }
      ],
      "source": [
        "\n",
        "print(\" Plotting R² Score Comparison...\")\n",
        "\n",
        "import matplotlib.pyplot as plt\n",
        "import numpy as np\n",
        "\n",
        "models = ['Linear Regression', 'Random Forest', 'XGBoost']\n",
        "r2_rating = [0.489, 0.850, 0.601]\n",
        "r2_price = [0.824, 0.967, 0.910]\n",
        "x = np.arange(len(models))\n",
        "width = 0.35\n",
        "\n",
        "\n",
        "plt.figure(figsize=(10,6))\n",
        "plt.bar(x - width/2, r2_rating, width, label='Rating R²', color='mediumorchid')\n",
        "plt.bar(x + width/2, r2_price, width, label='Price R²', color='gold')\n",
        "\n",
        "plt.xticks(x, models)\n",
        "plt.ylabel('R² Score')\n",
        "plt.ylim(0, 1.1)\n",
        "plt.title('R² Score Comparison: Rating vs Price')\n",
        "plt.legend()\n",
        "plt.show()\n"
      ]
    },
    {
      "cell_type": "code",
      "execution_count": null,
      "metadata": {
        "id": "ngOnVR0EQWfk"
      },
      "outputs": [],
      "source": []
    },
    {
      "cell_type": "code",
      "execution_count": null,
      "metadata": {
        "id": "vh6NEviyQWVW"
      },
      "outputs": [],
      "source": []
    }
  ],
  "metadata": {
    "colab": {
      "provenance": []
    },
    "kernelspec": {
      "display_name": "Python 3",
      "name": "python3"
    },
    "language_info": {
      "name": "python"
    }
  },
  "nbformat": 4,
  "nbformat_minor": 0
}